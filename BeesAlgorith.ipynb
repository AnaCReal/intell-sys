{
 "cells": [
  {
   "cell_type": "markdown",
   "metadata": {},
   "source": [
    "# Bees algorithm"
   ]
  },
  {
   "cell_type": "markdown",
   "metadata": {},
   "source": [
    "## We import the libraries"
   ]
  },
  {
   "cell_type": "code",
   "execution_count": 1,
   "metadata": {},
   "outputs": [],
   "source": [
    "import matplotlib.pyplot as plt\n",
    "import numpy as np\n",
    "import random as r"
   ]
  },
  {
   "cell_type": "markdown",
   "metadata": {},
   "source": [
    "## We define the sensors, the initial positions, the initial grid"
   ]
  },
  {
   "cell_type": "code",
   "execution_count": 2,
   "metadata": {},
   "outputs": [],
   "source": [
    "sensors_range = [3,2,2,1]\n",
    "initial = [(1,1), (1,5), (4,5), (5,3)] # Dónde empiezan nuestros 4 sensores\n",
    "grid = [[1,1,0,0,1,0], [1,0,0,1,1,1], [0,0,1,1,1,1], [1,1,1,1,1,1], [0,0,0,1,1,1], [1,1,1,1,0,0]]\n"
   ]
  },
  {
   "cell_type": "markdown",
   "metadata": {},
   "source": [
    "## Some functions to copy the grid, to evaluate it, to print the grid with the sensors"
   ]
  },
  {
   "cell_type": "code",
   "execution_count": 3,
   "metadata": {},
   "outputs": [],
   "source": [
    "def copy(grid):\n",
    "    init_grid = []\n",
    "    for row in grid:\n",
    "        temp_row =[]\n",
    "        for elem in row:\n",
    "            temp_row.append(elem)\n",
    "        init_grid.append(temp_row)\n",
    "    return init_grid\n",
    "init_grid = copy(grid)\n",
    "\n",
    "def eval_s(grid):\n",
    "    X=0\n",
    "    for j in range (0, len(grid)):\n",
    "            for k in range (0, len(grid[j])):\n",
    "                if grid [j][k] == '-':\n",
    "                   X=X+1\n",
    "    #X = 24-X\n",
    "    #print(X)\n",
    "    return X\n",
    "    \n",
    "def eval_num(grid):\n",
    "    X=0\n",
    "    for j in range (0, len(grid)):\n",
    "            for k in range (0, len(grid[j])):\n",
    "                if grid [j][k] == '-':\n",
    "                   X=X+1\n",
    "    return -X\n",
    "\n",
    "\n",
    "def printmat(grid):\n",
    "    for i in range(0,6):\n",
    "        for j in range(0,6):\n",
    "            print(grid[i][j], end=\"  \")\n",
    "        print()\n",
    "\n",
    "for i in range(len(grid)):\n",
    "    for j in range(len(grid)):\n",
    "        if grid[i][j] == 1:\n",
    "            init_grid[i][j] ='-' \n",
    "        else:\n",
    "            init_grid[i][j] ='#'\n",
    "\n",
    "def eval_mat(grid, sensors_range, locations):\n",
    "    for i in range(0, len(sensors_range)):\n",
    "        sensor_size = sensors_range[i]\n",
    "        for j in range (0, len(grid)):\n",
    "            for k in range (0, len(grid[j])):\n",
    "                g = [j,k]\n",
    "                #print (g)\n",
    "                if np.all(np.asarray(locations[i]) == np.asarray(g)):\n",
    "                    rng = sensors_range [i] \n",
    "                    for n in range (0, rng):\n",
    "                        for m in range (0, rng):\n",
    "                            if grid [j+m][k] == '-':\n",
    "                                grid [j+m][k] = i+1\n",
    "                            if grid [j+m][k+n] == '-':\n",
    "                                grid [j+m][k+n] = i+1\n",
    "                            if grid [j][k+n] == '-':\n",
    "                                grid [j][k+n] = i+1\n",
    "    return grid\n"
   ]
  },
  {
   "cell_type": "markdown",
   "metadata": {},
   "source": [
    "## We print the initial grid, we try with some initial locations "
   ]
  },
  {
   "cell_type": "code",
   "execution_count": 4,
   "metadata": {},
   "outputs": [
    {
     "name": "stdout",
     "output_type": "stream",
     "text": [
      "-  -  #  #  -  #  \n",
      "-  #  #  -  -  -  \n",
      "#  #  -  -  -  -  \n",
      "-  -  -  -  -  -  \n",
      "#  #  #  -  -  -  \n",
      "-  -  -  -  #  #  \n",
      "\n",
      "3  3  #  #  -  #  \n",
      "3  #  #  -  -  -  \n",
      "#  #  -  -  -  -  \n",
      "-  -  1  1  1  2  \n",
      "#  #  #  1  1  2  \n",
      "-  -  1  1  #  #  \n"
     ]
    },
    {
     "data": {
      "text/plain": [
       "12"
      ]
     },
     "execution_count": 4,
     "metadata": {},
     "output_type": "execute_result"
    }
   ],
   "source": [
    "printmat(init_grid)\n",
    "print()\n",
    "#initial = [(0,0), (0,4), (3,4), (4,2)]\n",
    "initial = [(3, 2), (3, 4), (0, 0), (0, 2)] \n",
    "sgrid = copy(init_grid)\n",
    "\n",
    "printmat(eval_mat(sgrid, sensors_range, initial))\n",
    "eval_s(eval_mat(sgrid, sensors_range, initial))"
   ]
  },
  {
   "cell_type": "markdown",
   "metadata": {},
   "source": [
    "## We generate the first 10 bees random"
   ]
  },
  {
   "cell_type": "code",
   "execution_count": 5,
   "metadata": {},
   "outputs": [
    {
     "name": "stdout",
     "output_type": "stream",
     "text": [
      "[[[1, 1], [0, 0], [0, 2], [2, 2]], [[1, 1], [0, 2], [2, 1], [3, 0]], [[0, 1], [0, 1], [2, 1], [0, 1]], [[1, 1], [2, 0], [2, 1], [2, 1]], [[1, 0], [0, 1], [1, 2], [1, 1]], [[0, 0], [2, 0], [2, 0], [3, 1]], [[1, 1], [1, 0], [2, 1], [0, 1]], [[0, 1], [1, 0], [1, 0], [2, 3]], [[1, 1], [1, 1], [1, 2], [1, 0]], [[1, 0], [2, 1], [0, 0], [3, 1]]]\n",
      "[[1, 1], [0, 0], [0, 2], [2, 2]]\n"
     ]
    }
   ],
   "source": [
    "r.seed()\n",
    "init_bees = []\n",
    "\n",
    "for i in range(10):\n",
    "    bees = []\n",
    "    for j in range(len(sensors_range)):\n",
    "        bees.append([r.randint(0, 5-sensors_range[j]-1), r.randint(0, 5-sensors_range[j]-1)])\n",
    "    init_bees.append(bees)\n",
    "\n",
    "print(init_bees)\n",
    "print(init_bees[0])"
   ]
  },
  {
   "cell_type": "markdown",
   "metadata": {},
   "source": [
    "## We print and evaluate them"
   ]
  },
  {
   "cell_type": "code",
   "execution_count": 6,
   "metadata": {},
   "outputs": [
    {
     "name": "stdout",
     "output_type": "stream",
     "text": [
      "2  2  #  #  -  #  \n",
      "2  #  #  1  -  -  \n",
      "#  #  1  1  -  -  \n",
      "-  1  1  1  -  -  \n",
      "#  #  #  -  -  -  \n",
      "-  -  -  -  #  #  \n",
      "\n",
      "-  -  #  #  -  #  \n",
      "-  #  #  1  -  -  \n",
      "#  #  1  1  -  -  \n",
      "4  1  1  1  -  -  \n",
      "#  #  #  -  -  -  \n",
      "-  -  -  -  #  #  \n",
      "\n",
      "-  1  #  #  -  #  \n",
      "-  #  #  1  -  -  \n",
      "#  #  1  1  -  -  \n",
      "-  3  3  -  -  -  \n",
      "#  #  #  -  -  -  \n",
      "-  -  -  -  #  #  \n",
      "\n",
      "-  -  #  #  -  #  \n",
      "-  #  #  1  -  -  \n",
      "#  #  1  1  -  -  \n",
      "2  1  1  1  -  -  \n",
      "#  #  #  -  -  -  \n",
      "-  -  -  -  #  #  \n",
      "\n",
      "-  2  #  #  -  #  \n",
      "1  #  #  3  -  -  \n",
      "#  #  1  3  -  -  \n",
      "1  1  1  -  -  -  \n",
      "#  #  #  -  -  -  \n",
      "-  -  -  -  #  #  \n",
      "\n",
      "1  1  #  #  -  #  \n",
      "1  #  #  -  -  -  \n",
      "#  #  1  -  -  -  \n",
      "2  2  -  -  -  -  \n",
      "#  #  #  -  -  -  \n",
      "-  -  -  -  #  #  \n",
      "\n",
      "-  4  #  #  -  #  \n",
      "2  #  #  1  -  -  \n",
      "#  #  1  1  -  -  \n",
      "-  1  1  1  -  -  \n",
      "#  #  #  -  -  -  \n",
      "-  -  -  -  #  #  \n",
      "\n",
      "-  1  #  #  -  #  \n",
      "2  #  #  1  -  -  \n",
      "#  #  1  1  -  -  \n",
      "-  -  -  -  -  -  \n",
      "#  #  #  -  -  -  \n",
      "-  -  -  -  #  #  \n",
      "\n",
      "-  -  #  #  -  #  \n",
      "4  #  #  1  -  -  \n",
      "#  #  1  1  -  -  \n",
      "-  1  1  1  -  -  \n",
      "#  #  #  -  -  -  \n",
      "-  -  -  -  #  #  \n",
      "\n",
      "3  3  #  #  -  #  \n",
      "1  #  #  -  -  -  \n",
      "#  #  1  -  -  -  \n",
      "1  1  1  -  -  -  \n",
      "#  #  #  -  -  -  \n",
      "-  -  -  -  #  #  \n",
      "\n",
      "[-15, -17, -18, -17, -16, -18, -16, -19, -17, -17]\n"
     ]
    }
   ],
   "source": [
    "ev_bees = []\n",
    "\n",
    "for i in range(10):\n",
    "    sgrid = copy(init_grid)\n",
    "    printmat(eval_mat(sgrid, sensors_range, init_bees[i]))\n",
    "    eval_s(eval_mat(sgrid, sensors_range, init_bees[i]))\n",
    "    ev_bees.append(eval_num(eval_mat(sgrid, sensors_range, init_bees[i])))\n",
    "    \n",
    "    print()\n",
    "print(ev_bees)"
   ]
  },
  {
   "cell_type": "markdown",
   "metadata": {},
   "source": [
    "## Select 4 bees"
   ]
  },
  {
   "cell_type": "code",
   "execution_count": 7,
   "metadata": {},
   "outputs": [
    {
     "name": "stdout",
     "output_type": "stream",
     "text": [
      "[-15, -16, -16, -17] [[[1, 1], [0, 0], [0, 2], [2, 2]], [[1, 1], [2, 0], [2, 1], [2, 1]], [[1, 0], [0, 1], [1, 2], [1, 1]], [[1, 1], [0, 0], [0, 2], [2, 2]]] 0 [-15, -17, -18, -17, -16, -18, -16, -19, -17, -17] [-18, -17, -18, -19, -17, -17]\n"
     ]
    }
   ],
   "source": [
    "m=4\n",
    "best_bees = []\n",
    "best_sites = []\n",
    "bees = ev_bees.copy()\n",
    "\n",
    "for j in range(m):\n",
    "    best_sites.append(max(bees))\n",
    "    k = bees.index(max(bees))\n",
    "    best_bees.append(init_bees[k])\n",
    "    del bees[k]\n",
    "        \n",
    "print(best_sites, best_bees, k, ev_bees, bees)"
   ]
  },
  {
   "cell_type": "markdown",
   "metadata": {},
   "source": [
    "## We select 2 elite bees"
   ]
  },
  {
   "cell_type": "code",
   "execution_count": 8,
   "metadata": {},
   "outputs": [
    {
     "name": "stdout",
     "output_type": "stream",
     "text": [
      "[-15, -16] [[[1, 1], [0, 0], [0, 2], [2, 2]], [[1, 1], [2, 0], [2, 1], [2, 1]]] 3 [-15, -17, -18, -17, -16, -18, -16, -19, -17, -17] [-17, -18, -17, -18, -16, -19, -17, -17]\n"
     ]
    }
   ],
   "source": [
    "e=2\n",
    "best_bees_e = []\n",
    "best_sites_e = []\n",
    "bees_e = ev_bees.copy()\n",
    "\n",
    "for j in range(e):\n",
    "    best_sites_e.append(max(bees_e))\n",
    "    k = bees_e.index(max(bees_e))\n",
    "    best_bees_e.append(init_bees[k])\n",
    "    del bees_e[k]\n",
    "        \n",
    "print(best_sites_e, best_bees_e, k, ev_bees, bees_e)"
   ]
  },
  {
   "cell_type": "markdown",
   "metadata": {},
   "source": [
    "## We select 2 bees (that are not elite)"
   ]
  },
  {
   "cell_type": "code",
   "execution_count": 9,
   "metadata": {},
   "outputs": [
    {
     "name": "stdout",
     "output_type": "stream",
     "text": [
      "[[[1, 1], [0, 0], [0, 2], [2, 2]], [[1, 1], [2, 0], [2, 1], [2, 1]]] [-17, -16]\n"
     ]
    }
   ],
   "source": [
    "sel=m-e\n",
    "best_bees_se = []\n",
    "best_sites_se = []\n",
    "bees_se = best_sites.copy()\n",
    "\n",
    "for j in range(sel):\n",
    "    best_sites_se.append(min(bees_se))\n",
    "    k = bees_se.index(min(bees_se))\n",
    "    best_bees_se.append(best_bees[k])\n",
    "    del bees_se[k]\n",
    "        \n",
    "print(best_bees_se, best_sites_se)"
   ]
  },
  {
   "cell_type": "markdown",
   "metadata": {},
   "source": [
    "## Generate 4 random for the elite, select a sensor by random and a new position"
   ]
  },
  {
   "cell_type": "markdown",
   "metadata": {},
   "source": [
    "Random de las elite"
   ]
  },
  {
   "cell_type": "code",
   "execution_count": 10,
   "metadata": {},
   "outputs": [
    {
     "name": "stdout",
     "output_type": "stream",
     "text": [
      "[[[1, 1], [0, 0], [0, 2], [2, 2]], [[1, 1], [2, 0], [2, 1], [2, 1]], [[1, 1], [0, 0], [0, 2], [2, 2]], [[1, 1], [2, 0], [2, 1], [2, 1]], [[1, 1], [0, 0], [0, 2], [2, 2]], [[1, 1], [2, 0], [2, 1], [2, 1]]]\n",
      "[[[1, 1], [1, 2], [0, 2], [2, 2]], [[1, 1], [0, 0], [2, 1], [2, 1]], [[1, 1], [1, 2], [0, 2], [2, 2]], [[1, 1], [0, 0], [2, 1], [2, 1]], [[1, 1], [1, 2], [0, 2], [2, 2]], [[1, 1], [0, 0], [2, 1], [2, 1]]]\n"
     ]
    }
   ],
   "source": [
    "rand_bees_elite = []\n",
    "for j in range(3):\n",
    "    for i in range(2):\n",
    "        rand_bees_elite.append(best_bees_e[i])\n",
    "\n",
    "print(rand_bees_elite)\n",
    "for i in range(2, 5):\n",
    "    sens = r.randint(0, 3)\n",
    "    rand_bees_elite[i][sens]=[r.randint(0, 5-sensors_range[sens]-1), r.randint(0, 5-sensors_range[sens]-1)]\n",
    "\n",
    "print(rand_bees_elite)\n",
    "    "
   ]
  },
  {
   "cell_type": "markdown",
   "metadata": {},
   "source": [
    "## Generate 2 random for the selected bees"
   ]
  },
  {
   "cell_type": "code",
   "execution_count": 11,
   "metadata": {},
   "outputs": [
    {
     "name": "stdout",
     "output_type": "stream",
     "text": [
      "[[[1, 1], [1, 2], [0, 2], [2, 2]], [[1, 1], [0, 0], [2, 1], [2, 1]], [[1, 1], [1, 2], [0, 2], [2, 2]], [[1, 1], [0, 0], [2, 1], [2, 1]]]\n",
      "[[[1, 1], [1, 2], [1, 1], [2, 2]], [[1, 1], [0, 0], [2, 1], [2, 1]], [[1, 1], [1, 2], [1, 1], [2, 2]], [[1, 1], [0, 0], [2, 1], [2, 1]]]\n"
     ]
    }
   ],
   "source": [
    "rand_bees_sel = []\n",
    "for j in range(2):\n",
    "    for i in range(2):\n",
    "        rand_bees_sel.append(best_bees_se[i])\n",
    "\n",
    "print(rand_bees_sel)\n",
    "for i in range(2, 3):\n",
    "    sens = r.randint(0, 3)\n",
    "    rand_bees_sel[i][sens]=[r.randint(0, 5-sensors_range[sens]-1), r.randint(0, 5-sensors_range[sens]-1)]\n",
    "\n",
    "print(rand_bees_sel)"
   ]
  },
  {
   "cell_type": "markdown",
   "metadata": {},
   "source": [
    "## Evaluate the elites"
   ]
  },
  {
   "cell_type": "code",
   "execution_count": 12,
   "metadata": {},
   "outputs": [
    {
     "name": "stdout",
     "output_type": "stream",
     "text": [
      "-  -  #  #  -  #  \n",
      "-  #  #  1  -  -  \n",
      "#  #  1  1  -  -  \n",
      "-  1  1  1  -  -  \n",
      "#  #  #  -  -  -  \n",
      "-  -  -  -  #  #  \n",
      "\n",
      "2  2  #  #  -  #  \n",
      "2  #  #  1  -  -  \n",
      "#  #  1  1  -  -  \n",
      "-  1  1  1  -  -  \n",
      "#  #  #  -  -  -  \n",
      "-  -  -  -  #  #  \n",
      "\n",
      "-  -  #  #  -  #  \n",
      "-  #  #  1  -  -  \n",
      "#  #  1  1  -  -  \n",
      "-  1  1  1  -  -  \n",
      "#  #  #  -  -  -  \n",
      "-  -  -  -  #  #  \n",
      "\n",
      "2  2  #  #  -  #  \n",
      "2  #  #  1  -  -  \n",
      "#  #  1  1  -  -  \n",
      "-  1  1  1  -  -  \n",
      "#  #  #  -  -  -  \n",
      "-  -  -  -  #  #  \n",
      "\n",
      "-  -  #  #  -  #  \n",
      "-  #  #  1  -  -  \n",
      "#  #  1  1  -  -  \n",
      "-  1  1  1  -  -  \n",
      "#  #  #  -  -  -  \n",
      "-  -  -  -  #  #  \n",
      "\n",
      "2  2  #  #  -  #  \n",
      "2  #  #  1  -  -  \n",
      "#  #  1  1  -  -  \n",
      "-  1  1  1  -  -  \n",
      "#  #  #  -  -  -  \n",
      "-  -  -  -  #  #  \n",
      "\n",
      "[-18, -15, -18, -15, -18, -15]\n"
     ]
    }
   ],
   "source": [
    "ev_bees_elite=[]\n",
    "for i in range(6):\n",
    "    sgrid = copy(init_grid)\n",
    "    printmat(eval_mat(sgrid, sensors_range, rand_bees_elite[i]))\n",
    "    eval_s(eval_mat(sgrid, sensors_range, rand_bees_elite[i]))\n",
    "    ev_bees_elite.append(eval_num(eval_mat(sgrid, sensors_range, rand_bees_elite[i])))\n",
    "    \n",
    "    print()\n",
    "print(ev_bees_elite)\n"
   ]
  },
  {
   "cell_type": "markdown",
   "metadata": {},
   "source": [
    "## Evaluate the selected"
   ]
  },
  {
   "cell_type": "code",
   "execution_count": 13,
   "metadata": {},
   "outputs": [
    {
     "name": "stdout",
     "output_type": "stream",
     "text": [
      "-  -  #  #  -  #  \n",
      "-  #  #  1  -  -  \n",
      "#  #  1  1  -  -  \n",
      "-  1  1  1  -  -  \n",
      "#  #  #  -  -  -  \n",
      "-  -  -  -  #  #  \n",
      "\n",
      "2  2  #  #  -  #  \n",
      "2  #  #  1  -  -  \n",
      "#  #  1  1  -  -  \n",
      "-  1  1  1  -  -  \n",
      "#  #  #  -  -  -  \n",
      "-  -  -  -  #  #  \n",
      "\n",
      "-  -  #  #  -  #  \n",
      "-  #  #  1  -  -  \n",
      "#  #  1  1  -  -  \n",
      "-  1  1  1  -  -  \n",
      "#  #  #  -  -  -  \n",
      "-  -  -  -  #  #  \n",
      "\n",
      "2  2  #  #  -  #  \n",
      "2  #  #  1  -  -  \n",
      "#  #  1  1  -  -  \n",
      "-  1  1  1  -  -  \n",
      "#  #  #  -  -  -  \n",
      "-  -  -  -  #  #  \n",
      "\n",
      "[-18, -15, -18, -15]\n"
     ]
    }
   ],
   "source": [
    "ev_bees_sel=[]\n",
    "for i in range(4):\n",
    "    sgrid = copy(init_grid)\n",
    "    printmat(eval_mat(sgrid, sensors_range, rand_bees_sel[i]))\n",
    "    eval_s(eval_mat(sgrid, sensors_range, rand_bees_sel[i]))\n",
    "    ev_bees_sel.append(eval_num(eval_mat(sgrid, sensors_range, rand_bees_sel[i])))\n",
    "    \n",
    "    print()\n",
    "print(ev_bees_sel)"
   ]
  },
  {
   "cell_type": "markdown",
   "metadata": {},
   "source": [
    "## The best bees from the selected bees"
   ]
  },
  {
   "cell_type": "code",
   "execution_count": 15,
   "metadata": {},
   "outputs": [
    {
     "name": "stdout",
     "output_type": "stream",
     "text": [
      "[-15, -15] [[[1, 1], [0, 0], [2, 1], [2, 1]], [[1, 1], [1, 2], [1, 1], [2, 2]]] 2 [-18, -15, -18, -15, -18, -15] [-18, -18, -18, -15]\n"
     ]
    }
   ],
   "source": [
    "m2=2\n",
    "best_bees2 = []\n",
    "best_sites2 = []\n",
    "bees2 = ev_bees_elite.copy()\n",
    "\n",
    "for j in range(m2):\n",
    "    best_sites2.append(max(bees2))\n",
    "    k = bees2.index(max(bees2))\n",
    "    best_bees2.append(rand_bees_sel[k])\n",
    "    del bees2[k]\n",
    "        \n",
    "print(best_sites2, best_bees2, k, ev_bees_elite, bees2)"
   ]
  },
  {
   "cell_type": "markdown",
   "metadata": {},
   "source": [
    "## The best from the elite"
   ]
  },
  {
   "cell_type": "code",
   "execution_count": 16,
   "metadata": {},
   "outputs": [
    {
     "name": "stdout",
     "output_type": "stream",
     "text": [
      "[-15, -15] [[[1, 1], [0, 0], [2, 1], [2, 1]], [[1, 1], [0, 0], [2, 1], [2, 1]]] 1 [-18, -15, -18, -15, -18, -15] [-18, -15, -18, -15, -18, -15]\n"
     ]
    }
   ],
   "source": [
    "e2=2\n",
    "best_bees_e2 = []\n",
    "best_sites_e2 = []\n",
    "bees_e2 = ev_bees_elite.copy()\n",
    "\n",
    "for j in range(e2):\n",
    "    best_sites_e2.append(max(bees_e2))\n",
    "    k = bees_e2.index(max(bees_e2))\n",
    "    best_bees_e2.append(rand_bees_elite[k])\n",
    "    del bees2[k]\n",
    "        \n",
    "print(best_sites_e2, best_bees_e2, k, ev_bees_elite, bees_e2)"
   ]
  },
  {
   "cell_type": "markdown",
   "metadata": {},
   "source": [
    "## Random"
   ]
  },
  {
   "cell_type": "code",
   "execution_count": 25,
   "metadata": {},
   "outputs": [
    {
     "name": "stdout",
     "output_type": "stream",
     "text": [
      "[[[1, 1], [0, 2], [2, 1], [3, 3]], [[0, 1], [1, 0], [0, 0], [3, 1]], [[0, 1], [1, 2], [1, 0], [0, 1]], [[1, 1], [1, 1], [0, 0], [0, 0]], [[1, 0], [2, 2], [0, 2], [0, 1]], [[1, 0], [0, 1], [2, 1], [0, 2]], [[1, 1], [0, 0], [2, 1], [2, 1]], [[1, 1], [0, 0], [2, 1], [2, 1]], [[1, 1], [0, 0], [2, 1], [2, 1]], [[1, 1], [1, 2], [1, 1], [2, 2]]]\n"
     ]
    }
   ],
   "source": [
    "r.seed()\n",
    "new_bees = []\n",
    "\n",
    "for i in range(6):\n",
    "    bees = []\n",
    "    for j in range(len(sensors_range)):\n",
    "        bees.append([r.randint(0, 5-sensors_range[j]-1), r.randint(0, 5-sensors_range[j]-1)])\n",
    "    new_bees.append(bees)\n",
    "\n",
    "new_bees.append(best_bees_e2[0])\n",
    "new_bees.append(best_bees_e2[1])\n",
    "new_bees.append(best_bees2[0])\n",
    "new_bees.append(best_bees2[1])\n",
    "print(new_bees)"
   ]
  },
  {
   "cell_type": "code",
   "execution_count": 26,
   "metadata": {},
   "outputs": [
    {
     "name": "stdout",
     "output_type": "stream",
     "text": [
      "-  -  #  #  -  #  \n",
      "-  #  #  1  -  -  \n",
      "#  #  1  1  -  -  \n",
      "-  1  1  1  -  -  \n",
      "#  #  #  -  -  -  \n",
      "-  -  -  -  #  #  \n",
      "\n",
      "3  1  #  #  -  #  \n",
      "2  #  #  1  -  -  \n",
      "#  #  1  1  -  -  \n",
      "-  4  -  -  -  -  \n",
      "#  #  #  -  -  -  \n",
      "-  -  -  -  #  #  \n",
      "\n",
      "-  1  #  #  -  #  \n",
      "3  #  #  1  -  -  \n",
      "#  #  1  1  -  -  \n",
      "-  -  -  -  -  -  \n",
      "#  #  #  -  -  -  \n",
      "-  -  -  -  #  #  \n",
      "\n",
      "3  3  #  #  -  #  \n",
      "3  #  #  1  -  -  \n",
      "#  #  1  1  -  -  \n",
      "-  1  1  1  -  -  \n",
      "#  #  #  -  -  -  \n",
      "-  -  -  -  #  #  \n",
      "\n",
      "-  4  #  #  -  #  \n",
      "1  #  #  3  -  -  \n",
      "#  #  1  2  -  -  \n",
      "1  1  1  2  -  -  \n",
      "#  #  #  -  -  -  \n",
      "-  -  -  -  #  #  \n",
      "\n",
      "-  2  #  #  -  #  \n",
      "1  #  #  -  -  -  \n",
      "#  #  1  -  -  -  \n",
      "1  1  1  -  -  -  \n",
      "#  #  #  -  -  -  \n",
      "-  -  -  -  #  #  \n",
      "\n",
      "2  2  #  #  -  #  \n",
      "2  #  #  1  -  -  \n",
      "#  #  1  1  -  -  \n",
      "-  1  1  1  -  -  \n",
      "#  #  #  -  -  -  \n",
      "-  -  -  -  #  #  \n",
      "\n",
      "2  2  #  #  -  #  \n",
      "2  #  #  1  -  -  \n",
      "#  #  1  1  -  -  \n",
      "-  1  1  1  -  -  \n",
      "#  #  #  -  -  -  \n",
      "-  -  -  -  #  #  \n",
      "\n",
      "2  2  #  #  -  #  \n",
      "2  #  #  1  -  -  \n",
      "#  #  1  1  -  -  \n",
      "-  1  1  1  -  -  \n",
      "#  #  #  -  -  -  \n",
      "-  -  -  -  #  #  \n",
      "\n",
      "-  -  #  #  -  #  \n",
      "-  #  #  1  -  -  \n",
      "#  #  1  1  -  -  \n",
      "-  1  1  1  -  -  \n",
      "#  #  #  -  -  -  \n",
      "-  -  -  -  #  #  \n",
      "\n",
      "[-18, -17, -19, -15, -15, -18, -15, -15, -15, -18]\n"
     ]
    }
   ],
   "source": [
    "ev_new_bees = []\n",
    "\n",
    "for i in range(10):\n",
    "    sgrid = copy(init_grid)\n",
    "    printmat(eval_mat(sgrid, sensors_range, new_bees[i]))\n",
    "    eval_s(eval_mat(sgrid, sensors_range, new_bees[i]))\n",
    "    ev_new_bees.append(eval_num(eval_mat(sgrid, sensors_range, new_bees[i])))\n",
    "    \n",
    "    print()\n",
    "print(ev_new_bees)"
   ]
  },
  {
   "cell_type": "code",
   "execution_count": null,
   "metadata": {},
   "outputs": [],
   "source": []
  }
 ],
 "metadata": {
  "kernelspec": {
   "display_name": "Python 3",
   "language": "python",
   "name": "python3"
  },
  "language_info": {
   "codemirror_mode": {
    "name": "ipython",
    "version": 3
   },
   "file_extension": ".py",
   "mimetype": "text/x-python",
   "name": "python",
   "nbconvert_exporter": "python",
   "pygments_lexer": "ipython3",
   "version": "3.6.5"
  }
 },
 "nbformat": 4,
 "nbformat_minor": 2
}
